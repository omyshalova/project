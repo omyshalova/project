{
 "cells": [
  {
   "cell_type": "markdown",
   "metadata": {},
   "source": [
    "# dr"
   ]
  },
  {
   "cell_type": "code",
   "execution_count": 2,
   "metadata": {},
   "outputs": [
    {
     "name": "stdout",
     "output_type": "stream",
     "text": [
      "Defaulting to user installation because normal site-packages is not writeable\n",
      "Requirement already satisfied: requests in c:\\program files\\anaconda3\\lib\\site-packages (2.24.0)\n",
      "Requirement already satisfied: chardet<4,>=3.0.2 in c:\\program files\\anaconda3\\lib\\site-packages (from requests) (3.0.4)\n",
      "Requirement already satisfied: idna<3,>=2.5 in c:\\program files\\anaconda3\\lib\\site-packages (from requests) (2.10)\n",
      "Requirement already satisfied: urllib3!=1.25.0,!=1.25.1,<1.26,>=1.21.1 in c:\\program files\\anaconda3\\lib\\site-packages (from requests) (1.25.9)\n",
      "Requirement already satisfied: certifi>=2017.4.17 in c:\\program files\\anaconda3\\lib\\site-packages (from requests) (2020.6.20)\n",
      "Defaulting to user installation because normal site-packages is not writeable\n",
      "Requirement already satisfied: beautifulsoup4 in c:\\program files\\anaconda3\\lib\\site-packages (4.9.1)\n",
      "Requirement already satisfied: soupsieve>1.2 in c:\\program files\\anaconda3\\lib\\site-packages (from beautifulsoup4) (2.0.1)\n"
     ]
    }
   ],
   "source": [
    "! pip3 install requests\n",
    "! pip3 install beautifulsoup4\n",
    "import requests as rq\n",
    "from bs4 import BeautifulSoup\n",
    "import re"
   ]
  },
  {
   "cell_type": "code",
   "execution_count": 34,
   "metadata": {},
   "outputs": [
    {
     "name": "stdout",
     "output_type": "stream",
     "text": [
      "1 -  The Hand of God\n",
      " http://dreamreader.net/lesson/the-hand-of-god/\n",
      "  \n",
      " \n",
      "A very interesting event happened during the 1986 football World Cup in Mexico. On June 22, Argentina and England played against each other in the semifinals. Fans and players for both teams felt very strongly about this match. Only four years earlier, England and Argentina fought a war over the Falkland Islands.  Since England had prevailed in the conflict, many Argentinians saw this game as a chance for revenge.  English football fans were equally passionate about winning the game because they saw it as a good chance to win the World Cup.\n",
      " \n",
      "The first half of the match was closely contested, and at half-time the score was 0–0. Only six minutes into the second half, however, an Argentine star player named Maradona was running with the ball towards the goal at the same time as the English goalkeeper was running out of his goal.  The tall English goalkeeper put his arm up to hit the ball away but the shorter Maradona jumped up towards the ball with his arm up.  The ball suddenly changed direction and went into the English goal.\n",
      " \n",
      "To everyone watching the game, it looked as if Maradona had illegally hit the ball with his hand or arm.  However, the referee claimed that he did not see it and so he allowed the goal.  After the game, Maradona famously told reporters the goal was scored “a little by the head of Maradona and a little by the hand of God.”   England ended up losing the game to Argentina 2-1.   English fans were furious but it was too late.  The Argentinians eventually went on to beat West Germany on June 29th to win the World Cup.\n",
      "2 -  Independence Day\n",
      " http://dreamreader.net/lesson/independence-day/\n",
      " \n",
      "\n",
      "Click here to download our free Independence Day lesson pack\n",
      "\n",
      "\n",
      "Click here to download our free Independence Day lesson pack\n",
      "On July 4, 1776, the United States declared independence from Great Britain. This day has become known as Independence Day. It is also often called the Fourth of July or July the Fourth. To commemorate this event, Independence Day is a national holiday for people in the US. This day is very important for American people, and it is celebrated with firework displays, parades, carnivals, and big sporting and musical events. Families often get together to have barbecues, picnics and family meals. People also display the American flag, and red, white, and blue banners.\n",
      "One lesser known fact about Independence Day is that the actual day the US became independent might be July 2. If one of the Founding Fathers of America, John Adams, was alive today, he might think it is celebrated two days late. On July 3 in 1776, John Adams wrote “The Second Day of July 1776, will be the most memorable Epocha, in the History of America”. Indeed, most signatures on the Declaration of Independence actually took place on July 2, and only two people signed the document on July 4. Nevertheless, July 4 is, and will continue to be, a very important day for the people of America.\n",
      "[…] Independence Day […]\n",
      "3 -  Culture shock\n",
      " http://dreamreader.net/lesson/culture-shock/\n",
      " Culture shock is the emotional and mental reaction to being in a completely new cultural environment. This is often a very difficult experience for many people and it consists of several stages of feelings until someone successfully adapts to being in the new culture.\n",
      "The “honeymoon” phase of culture shock is usually the first stage that people go through when surrounded by different cultural values and lifestyles. During this stage, people often have very positive images of their new cultural surroundings. They tend to view these in an idealistic way and ignore or minimize problems. Encounters with new people are seen as fascinating and unique. This phase is usually quite short for most people and quickly gives way to the second stage, called “the frustration phase”.\n",
      "During the “frustration phase”, the newcomer begins to experience a more negative view of their cultural surroundings. The problems of communicating in a new language or the tasting different foods, for example, are no longer novel. The visitor tends to exaggerate or dwell on problems in the new culture. There is a definite frustration that things that should be easy are still difficult. For example, people who may have been enjoyed learning the basics of a language during the honeymoon phase would now find it a chore to try and communicate with locals in the frustration phase. Newcomers may feel isolated during this phase and many people will voluntarily isolate themselves. Depending on one’s outlook and situation, this phase can last days, months, or even years.\n",
      "After the frustration phase ends, the adjustment phase begins. This marks the time when newcomers begin to adapt to the new culture. They begin to accept the differences around them and the challenges of everyday life. They can appreciate some aspects of the new culture while being realistic about those they perceived as problems back in the frustration phase. This opens the door to three possible outcomes – mastery, rejection, or assimilation.\n",
      "Those newcomers who enter the “mastery phase” have completely adapted to the values and beliefs of the new culture. They are able to navigate the new culture like a native while at the same time keeping some of their own original cultural values. Those who choose the “rejection phase” have decided against integrating in the new culture and do not accept it. They usually choose to permanently withdraw from the culture through isolation or returning home. Interestingly, these people usually have the hardest time re-adjusting to their home culture after going back. Integrators are people who completely adopt the identity of the new culture and give up the values and beliefs of their home culture.\n",
      "Culture shock is a very emotional experience for most people and there are many symptoms. A person going through culture shock may display irritability and angry outbursts at times.  Many experience a bout of depression or lethargy from time to time. If not managed carefully, this can lead some people to suicide. It is important to recognize these symptoms in newcomers and understand the reasons for these feelings.\n",
      "If you liked this lesson, why not try this one on Cultural Diffusion?\n",
      "4 -  World Refugee Day\n",
      " http://dreamreader.net/lesson/world-refugee-day/\n",
      " World Refugee Day is held on June 20 each year. This day was arranged by the United Nations General Assembly. It is a day to raise awareness about the difficult situations that refugees are in around the world. It was first held on June 20 in 2001. The UN chose to do this because 50 years earlier an agreement about what rights refugees have was made.\n",
      "To mark this day, many countries hold events. In fact, there are different events in more than 100 countries. Famous people, members of governments, aid workers and refugees participate in these events. At some events, films are played to show how refugees have to live and the terrible conditions they are in. Some people write letters to their government. They ask for more help for the refugees. Other people who want to see changes to how refugees are treated hold protests. These people are usually called activists.\n",
      "The UN Refugee Agency is involved in this day. Their logo is associated with World Refugee Day. The logo has two olive branches which symbolize peace. Inside the two branches are two hands. They are surrounding the figure of a person. The two hands are protecting the person. The pictures on the logo are usually in blue on a white background, but sometimes they are white on a blue background.\n",
      "5 -  The Lion of Vienna\n",
      " http://dreamreader.net/lesson/the-lion-of-vienna/\n",
      " Nat Lofthouse OBE was a professional football player who played for Bolton Wanderers and England. He was born in Bolton, England and played for his hometown team his entire career. He is thought of as a legend by the people of Bolton. In 2013 a statue of him was put up outside Bolton Wanderers football stadium.\n",
      " \n",
      "Nat was born in 1925, and he joined Bolton Wanderers on September 4th in 1939. He played his first game for the club two years later and scored two goals. He would go on to score many more for his club and country. Nat Lofthouse played for England 33 times and he became known as the Lion of Vienna after scoring two goals in an England victory over Austria. Football was much fiercer in those days, and Nat was elbowed in the face, tackled hard from behind, and hit by the goalkeeper as he scored his second goal. His bravery earned him his nickname.\n",
      " \n",
      "He was named English Footballer of the Year in 1953 and played in two FA Cup finals for Bolton Wanderers. He is still in the top 10 scorers in the top division of English football with 255 goals – all scored for Bolton Wanderers. Nat Lofthouse sadly passed away on January 15th in 2011. He will be remembered for his incredible achievements for his club and country, and also for being a true gentleman. Many of today’s professional footballers could learn a great deal from this great man.\n",
      "\n"
     ]
    },
    {
     "name": "stdout",
     "output_type": "stream",
     "text": [
      "6 -  David Beckham\n",
      " http://dreamreader.net/lesson/david-beckham/\n",
      " For many people he is a football legend. He has played for Manchester United, Real Madrid, L.A. Galaxy, A.C. Milan, and Paris Saint Germain. He is also married to an international pop-superstar. He is of course David Beckham. He is one of the most successful and famous sport-stars on the planet. Below are five of his amazing records.\n",
      "David Beckham was the first Englishman to win league titles in four different countries (In England, Spain, USA, and France).\n",
      "He was the first England player to score at three World Cups.\n",
      "He was the first British footballer to play in 100 Champions League games.\n",
      "He has the joint-second most goal assists in the history of the European Championship finals.\n",
      "He has created more chances for the English national team as a World Cup player since England last won the World cup in 1966.\n",
      " \n",
      "\n"
     ]
    }
   ],
   "source": [
    "dr_url = 'http://dreamreader.net/Lesson/academic-english/advanced/'\n",
    "dr_page = rq.get(dr_url)\n",
    "dr_page.encoding = 'utf-8'\n",
    "dr_page_soup = BeautifulSoup(dr_page.text, 'html.parser') \n",
    "dr_count = 0\n",
    "\n",
    "# проверка линка, сырого и форматированного текста\n",
    "\n",
    "# print(dr_page.status_code)\n",
    "# print(dr_page.text)\n",
    "# print(dr_page_soup.prettify())\n",
    "\n",
    "# with open('poa_articles.txt', 'w', encoding = 'utf-8') as poa_articles: # создаем новый док\n",
    "#     poa_articles.write('poa Articles')\n",
    "dr_article_url_list = ''\n",
    "for dr_tag in dr_page_soup.find_all('a'):\n",
    "    dr_str = str(dr_tag)\n",
    "    dr_url = ((dr_str)[9:]).split('\"')[0]\n",
    "    if 'lesson' in dr_url:\n",
    "        dr_article_url = dr_url\n",
    "        dr_article_url_list += dr_article_url + '\\n'\n",
    "dr_article_url_list = list(filter(None, list(set(dr_article_url_list.split('\\n')))))\n",
    "for dr_article_url_each in dr_article_url_list:\n",
    "    dr_article_url_each_page = rq.get(dr_article_url_each)\n",
    "    dr_article_url_each_page.encoding = 'utf-8'\n",
    "    dr_article_url_each_page_soup = BeautifulSoup(dr_article_url_each_page.text, 'html.parser') \n",
    "    for dr_article_tag in dr_article_url_each_page_soup.find_all('h1', class_='the-lesson-title'):\n",
    "        dr_count += 1\n",
    "        dr_article_num = str(dr_count) + ' - '\n",
    "        dr_article_header = dr_article_tag.text + '\\n'\n",
    "        dr_article_url_link = dr_article_url_each + '\\n'\n",
    "        dr_article_text = '\\n'.join(dr_article_text.text for dr_article_text in dr_article_url_each_page_soup.find_all('p'))\n",
    "        print(dr_article_num, dr_article_header, dr_article_url_link, dr_article_text)\n",
    "\n",
    "\n",
    "#         with open('poa_articles.txt', 'a', encoding = 'utf-8') as poa_articles:\n",
    "#             poa_articles.write(full_poa_article)    \n",
    "    \n",
    "# with open('poa_articles.txt', 'r', encoding = 'utf-8') as poa_articles:\n",
    "#     print(poa_articles.read())"
   ]
  }
 ],
 "metadata": {
  "kernelspec": {
   "display_name": "Python 3",
   "language": "python",
   "name": "python3"
  },
  "language_info": {
   "codemirror_mode": {
    "name": "ipython",
    "version": 3
   },
   "file_extension": ".py",
   "mimetype": "text/x-python",
   "name": "python",
   "nbconvert_exporter": "python",
   "pygments_lexer": "ipython3",
   "version": "3.8.3"
  }
 },
 "nbformat": 4,
 "nbformat_minor": 4
}
